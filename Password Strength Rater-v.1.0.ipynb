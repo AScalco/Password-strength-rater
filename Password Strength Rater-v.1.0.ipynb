{
 "cells": [
  {
   "cell_type": "markdown",
   "metadata": {},
   "source": [
    "# Password Strength Rater"
   ]
  },
  {
   "cell_type": "code",
   "execution_count": 109,
   "metadata": {},
   "outputs": [],
   "source": [
    "import string\n",
    "\n",
    "lowercase = string.ascii_lowercase\n",
    "uppercase = string.ascii_uppercase\n",
    "digits = [0,1,2,3,4,5,6,7,8,9]\n",
    "\n",
    "def rate_password(username, password):\n",
    "    score = 0\n",
    "    score = score + len(password)\n",
    "    \n",
    "    for letter in password:\n",
    "        if letter in lowercase:\n",
    "            score = score + 2\n",
    "            break\n",
    "            \n",
    "    for letter in password:\n",
    "        if letter in uppercase:\n",
    "            score = score + 3\n",
    "            break\n",
    "\n",
    "    for letter in password:\n",
    "        # <error> str(digits) creates whitespaces between values, so \"Bob cat 猫\" scores +5 because of the space\n",
    "        # if letter in str(digits): \n",
    "        # <fix> added method \".replace(\" \", \"\")\" to replace whitespaces with no spaces\n",
    "        if letter in str(digits).replace(\" \", \"\"): \n",
    "            score = score + 5\n",
    "            break\n",
    "\n",
    "    if ' ' in password:\n",
    "        score = score + 5\n",
    "\n",
    "    for letter in password:\n",
    "        if letter not in lowercase + uppercase + str(digits) + \" \":\n",
    "            score = score + 10\n",
    "            break\n",
    " \n",
    "    # <error> this won't penalise \"BobX\" in \"BoB cat 猫\" because if..in checks for the entire username\n",
    "    # if username.lower() in password.lower():\n",
    "    # <fix> used method \"find()\" (it returns the first position of the matched string; otherwise -1)\n",
    "    # <fix> set both username and password lowercase to avoid case sensitive\n",
    "    if password.lower().find(username.lower()) > -1:\n",
    "        score = score - 15            \n",
    "    \n",
    "    # set minimum score at 0\n",
    "    if score >= 0:\n",
    "        return score\n",
    "    else:\n",
    "        return 0"
   ]
  },
  {
   "cell_type": "code",
   "execution_count": 110,
   "metadata": {},
   "outputs": [
    {
     "data": {
      "text/plain": [
       "29"
      ]
     },
     "execution_count": 110,
     "metadata": {},
     "output_type": "execute_result"
    }
   ],
   "source": [
    "rate_password('bob', 'BoX cat 猫')"
   ]
  },
  {
   "cell_type": "code",
   "execution_count": 111,
   "metadata": {},
   "outputs": [
    {
     "data": {
      "text/plain": [
       "14"
      ]
     },
     "execution_count": 111,
     "metadata": {},
     "output_type": "execute_result"
    }
   ],
   "source": [
    "rate_password('bob', 'BoB cat 猫')"
   ]
  },
  {
   "cell_type": "code",
   "execution_count": 112,
   "metadata": {},
   "outputs": [
    {
     "data": {
      "text/plain": [
       "0"
      ]
     },
     "execution_count": 112,
     "metadata": {},
     "output_type": "execute_result"
    }
   ],
   "source": [
    "rate_password('bob', 'bob')"
   ]
  },
  {
   "cell_type": "code",
   "execution_count": 113,
   "metadata": {},
   "outputs": [
    {
     "data": {
      "text/plain": [
       "0"
      ]
     },
     "execution_count": 113,
     "metadata": {},
     "output_type": "execute_result"
    }
   ],
   "source": [
    "rate_password('bob', 'bobbobbobbob')"
   ]
  },
  {
   "cell_type": "code",
   "execution_count": 108,
   "metadata": {},
   "outputs": [
    {
     "data": {
      "text/plain": [
       "2"
      ]
     },
     "execution_count": 108,
     "metadata": {},
     "output_type": "execute_result"
    }
   ],
   "source": [
    "rate_password('bob', 'bobbobbobbobbob')"
   ]
  }
 ],
 "metadata": {
  "kernelspec": {
   "display_name": "Python 3",
   "language": "python",
   "name": "python3"
  },
  "language_info": {
   "codemirror_mode": {
    "name": "ipython",
    "version": 3
   },
   "file_extension": ".py",
   "mimetype": "text/x-python",
   "name": "python",
   "nbconvert_exporter": "python",
   "pygments_lexer": "ipython3",
   "version": "3.7.3"
  }
 },
 "nbformat": 4,
 "nbformat_minor": 2
}
